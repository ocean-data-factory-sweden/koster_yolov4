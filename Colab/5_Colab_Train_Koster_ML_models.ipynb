{
  "cells": [
    {
      "cell_type": "markdown",
      "metadata": {
        "id": "Wgsj8EEOzfGn"
      },
      "source": [
        "<img align=\"left\" src=\"https://panoptes-uploads.zooniverse.org/project_avatar/86c23ca7-bbaa-4e84-8d8a-876819551431.png\" type=\"image/png\" height=100 width=100>\n",
        "</img>\n",
        "<h1 align=\"right\">Colab KSO Tutorials #5: Train machine learning models</h1>\n",
        "<h3 align=\"right\">Written by @jannesgg and @vykanton</h3>\n",
        "<h5 align=\"right\">Last updated: May 15, 2022</h5>"
      ]
    },
    {
      "cell_type": "markdown",
      "metadata": {
        "id": "FlVXYRkEzfGq"
      },
      "source": [
        "# Set up and requirements"
      ]
    },
    {
      "cell_type": "markdown",
      "metadata": {
        "id": "Y6ozqGm3zfGq"
      },
      "source": [
        "### Install and import Python packages"
      ]
    },
    {
      "cell_type": "code",
      "execution_count": null,
      "metadata": {
        "id": "4YRqq41oziEM"
      },
      "outputs": [],
      "source": [
        "!git clone --recurse-submodules https://github.com/ocean-data-factory-sweden/koster_yolov4.git\n",
        "!pip install -r koster_yolov4/requirements.txt\n",
        "\n",
        "# Fix libmagic upload issue\n",
        "!apt-get update && apt-get install -y libmagic-dev\n",
        "\n",
        "# Solution to avoid opncv and pims library issues based on https://stackoverflow.com/questions/71204741/how-to-fix-error-module-cv2-has-no-attribute-legacy-on-python-3-7-9-and-w\n",
        "!pip uninstall opencv-python -y\n",
        "!pip uninstall opencv-contrib-python -y\n",
        "!pip install opencv-contrib-python\n",
        "\n",
        "# Replace upsampling script with custom version\n",
        "!mv ../src/upsampling.py /usr/local/lib/python3.7/dist-packages/torch/nn/modules/upsampling.py\n",
        "\n",
        "# Test if panoptes can be loaded\n",
        "try:\n",
        "  !pip install git+https://github.com/zooniverse/panoptes-python-client.git\n",
        "  import panoptes_client\n",
        "except:\n",
        "  print('Restarting runtime...')\n",
        "  exit()"
      ]
    },
    {
      "cell_type": "code",
      "execution_count": null,
      "metadata": {
        "id": "GLpry-LKI-VB"
      },
      "outputs": [],
      "source": [
        "# Set the directory of the libraries\n",
        "import sys, os\n",
        "os.chdir(\"koster_yolov4/notebooks\")\n",
        "sys.path.append('..')\n",
        "\n",
        "# Enables testing changes in utils\n",
        "%load_ext autoreload\n",
        "%autoreload 2\n",
        "\n",
        "# Import required modules\n",
        "import kso_utils.tutorials_utils as t_utils\n",
        "import kso_utils.server_utils as s_utils\n",
        "import kso_utils.project_utils as p_utils\n",
        "import kso_utils.t3_utils as t3\n",
        "import kso_utils.t4_utils as t4\n",
        "import kso_utils.t5_utils as t5\n",
        "import kso_utils.t6_utils as t6\n",
        "import kso_utils.t8_utils as t8\n",
        "from src.prepare_zooniverse import frame_aggregation\n",
        "from kso_utils.zooniverse_utils import populate_agg_annotations\n",
        "\n",
        "# Model-specific imports\n",
        "import yolo_train as train\n",
        "import yolo_test as test\n",
        "import yolo_detect as detect\n",
        "\n",
        "print(\"Packages loaded successfully\")"
      ]
    },
    {
      "cell_type": "markdown",
      "metadata": {
        "id": "ZZWAWkVZzfGr"
      },
      "source": [
        "### Choose your project"
      ]
    },
    {
      "cell_type": "code",
      "execution_count": null,
      "metadata": {
        "id": "ZI0XH96WzfGs"
      },
      "outputs": [],
      "source": [
        "project_name = t_utils.choose_project()"
      ]
    },
    {
      "cell_type": "code",
      "execution_count": 3,
      "metadata": {
        "id": "o8ShAbg3zfGs"
      },
      "outputs": [],
      "source": [
        "project = p_utils.find_project(project_name=project_name.value)"
      ]
    },
    {
      "cell_type": "markdown",
      "metadata": {
        "id": "fy3m9cOdzfGt"
      },
      "source": [
        "### Initiate SQL database and populate sites, movies and species"
      ]
    },
    {
      "cell_type": "code",
      "execution_count": null,
      "metadata": {
        "id": "5UPecO5gzfGt"
      },
      "outputs": [],
      "source": [
        "# Initiate db\n",
        "db_info_dict = t_utils.initiate_db(project)"
      ]
    },
    {
      "cell_type": "code",
      "execution_count": null,
      "metadata": {
        "id": "bHyy9nDOzfGt"
      },
      "outputs": [],
      "source": [
        "# Connect to Zooniverse project\n",
        "zoo_project = t_utils.connect_zoo_project(project)"
      ]
    },
    {
      "cell_type": "markdown",
      "metadata": {
        "id": "8b4CEVkXzfGu"
      },
      "source": [
        "### Retrieve Zooniverse information"
      ]
    },
    {
      "cell_type": "code",
      "execution_count": null,
      "metadata": {
        "id": "3iIYThmuzfGu"
      },
      "outputs": [],
      "source": [
        "zoo_info_dict = t_utils.retrieve__populate_zoo_info(project = project, \n",
        "                                                    db_info_dict = db_info_dict,\n",
        "                                                    zoo_project = zoo_project,\n",
        "                                                    zoo_info = [\"subjects\", \"workflows\", \"classifications\"])"
      ]
    },
    {
      "cell_type": "markdown",
      "metadata": {
        "id": "RkHzQIzxzfGu"
      },
      "source": [
        "# Prepare the labelled frames"
      ]
    },
    {
      "cell_type": "markdown",
      "metadata": {
        "id": "m7EK4BXjzfGu"
      },
      "source": [
        "### Select species of interest and path to store the data"
      ]
    },
    {
      "cell_type": "code",
      "execution_count": null,
      "metadata": {
        "id": "-Vf8F9j0zfGv"
      },
      "outputs": [],
      "source": [
        "# Choose species of interest for model training\n",
        "species_i = t4.choose_species(db_info_dict[\"db_path\"])"
      ]
    },
    {
      "cell_type": "code",
      "execution_count": null,
      "metadata": {
        "id": "NyZosOq-zfGv"
      },
      "outputs": [],
      "source": [
        "# Store selected classes of interest\n",
        "cl = list(species_i.value)\n",
        "print(\"The select species are\", cl)"
      ]
    },
    {
      "cell_type": "code",
      "execution_count": null,
      "metadata": {
        "id": "HvaEo7mjzfGv"
      },
      "outputs": [],
      "source": [
        "# Specify path to store the labelled frames and annotations\n",
        "fc = t_utils.choose_folder(\".\", \"output\")"
      ]
    },
    {
      "cell_type": "code",
      "execution_count": 10,
      "metadata": {
        "id": "Km6YEp41zfGv"
      },
      "outputs": [],
      "source": [
        "# Store selected output path\n",
        "output_folder = fc.selected"
      ]
    },
    {
      "cell_type": "markdown",
      "metadata": {
        "id": "luC2SPQHzfGv"
      },
      "source": [
        "### Aggregate classifications from Zooniverse"
      ]
    },
    {
      "cell_type": "code",
      "execution_count": null,
      "metadata": {
        "id": "ADAbUiqYzfGv"
      },
      "outputs": [],
      "source": [
        "# Display a selectable list of workflow names and a list of versions of the workflow of interest\n",
        "workflows_df = zoo_info_dict[\"workflows\"]\n",
        "wm = t8.WidgetMaker(workflows_df)\n",
        "wm"
      ]
    },
    {
      "cell_type": "code",
      "execution_count": null,
      "metadata": {
        "id": "zRyKGVqczfGv"
      },
      "outputs": [],
      "source": [
        "# Retrieve classifications from the workflow of interest\n",
        "class_df = t8.get_classifications(wm.checks,\n",
        "                                   workflows_df, \n",
        "                                   'frame', \n",
        "                                   zoo_info_dict[\"classifications\"], \n",
        "                                   db_info_dict[\"db_path\"],\n",
        "                                   project)"
      ]
    },
    {
      "cell_type": "code",
      "execution_count": null,
      "metadata": {
        "id": "vlKLaOC3zfGw"
      },
      "outputs": [],
      "source": [
        "# Specify the agreement threshold required among cit scientists\n",
        "agg_params = t8.choose_agg_parameters(\"frame\")"
      ]
    },
    {
      "cell_type": "code",
      "execution_count": null,
      "metadata": {
        "id": "cJEbNORczfGw"
      },
      "outputs": [],
      "source": [
        "agg_class_df, raw_class_df = t8.aggregrate_classifications(\n",
        "                                    class_df, 'frame', project, agg_params)"
      ]
    },
    {
      "cell_type": "code",
      "execution_count": null,
      "metadata": {
        "id": "Y1JjIvRSzfGw"
      },
      "outputs": [],
      "source": [
        "# Add annotations to db\n",
        "populate_agg_annotations(agg_class_df, 'frame', project)"
      ]
    },
    {
      "cell_type": "markdown",
      "metadata": {
        "id": "Q4XNdjhhzfGw"
      },
      "source": [
        "### Download frames and aggregated annotations"
      ]
    },
    {
      "cell_type": "code",
      "execution_count": null,
      "metadata": {
        "id": "eQekPWcRzfGw"
      },
      "outputs": [],
      "source": [
        "# Determine your training parameters\n",
        "percentage_test = t5.choose_test_prop()"
      ]
    },
    {
      "cell_type": "code",
      "execution_count": null,
      "metadata": {
        "id": "DsxAuGG_zfGw"
      },
      "outputs": [],
      "source": [
        "# Run the preparation script\n",
        "frame_aggregation(project, db_info_dict, output_folder, percentage_test.value, cl,\n",
        "                  (720, 540), remove_nulls=True, track_frames=False, n_tracked_frames=10)"
      ]
    },
    {
      "cell_type": "markdown",
      "metadata": {
        "id": "Mw_ZiNtVKyMA"
      },
      "source": [
        "### Preview the frames and their aggregated annotations"
      ]
    },
    {
      "cell_type": "code",
      "execution_count": null,
      "metadata": {
        "id": "M-gyODDRKkhw"
      },
      "outputs": [],
      "source": [
        "t6.get_annotations_viewer(\"/content/koster_yolov4/notebooks/images\", species_list=cl)"
      ]
    },
    {
      "cell_type": "markdown",
      "metadata": {
        "id": "mcFpT7njzfGw"
      },
      "source": [
        "# Train and evaluate the ML model"
      ]
    },
    {
      "cell_type": "code",
      "execution_count": null,
      "metadata": {
        "id": "Jt2PIFLdzfGw"
      },
      "outputs": [],
      "source": [
        "# Fix important paths\n",
        "data_path = [str(Path(output_folder, _)) for _ in os.listdir(output_folder) if \\\n",
        "             _.endswith(\".yaml\") and \"hyp\" not in _][-1]\n",
        "hyps_path = str(Path(output_folder, \"hyp.yaml\"))\n",
        "weights = \"yolov5m.pt\"\n",
        "\n",
        "# Choose folder that will contain the different model runs\n",
        "project_path = FileChooser('.')\n",
        "\n",
        "# Project-specific information\n",
        "entity = \"koster\"\n",
        "exp_name = \"test\"\n",
        "display(project_path)"
      ]
    },
    {
      "cell_type": "markdown",
      "metadata": {
        "id": "rTb9DFFWzfGw"
      },
      "source": [
        "### Train model with given configuration"
      ]
    },
    {
      "cell_type": "code",
      "execution_count": null,
      "metadata": {
        "id": "JtoEszUszfGw",
        "scrolled": true
      },
      "outputs": [],
      "source": [
        "train.run(entity=entity, data=data_path, hyp=hyps_path, weights=weights, \n",
        "          project=project_path.selected, name=exp_name,\n",
        "          img_size=[720, 540], batch=int(batch_size.value),\n",
        "          epochs=epochs.value, workers=4, single_cls=True, cache_images=True)"
      ]
    },
    {
      "cell_type": "markdown",
      "metadata": {
        "id": "PRXru5arzfGw"
      },
      "source": [
        "### Evaluate model performance on test set"
      ]
    },
    {
      "cell_type": "code",
      "execution_count": null,
      "metadata": {
        "id": "Erw0xEw3zfGw"
      },
      "outputs": [],
      "source": [
        "# Choose model\n",
        "eval_model = FileChooser(project_path.selected)\n",
        "display(eval_model)"
      ]
    },
    {
      "cell_type": "code",
      "execution_count": null,
      "metadata": {
        "id": "Fdr9K3nHzfGw"
      },
      "outputs": [],
      "source": [
        "# Find trained model weights\n",
        "tuned_weights = f\"{Path(project_path.selected, eval_model.selected, 'weights', 'best.pt')}\""
      ]
    },
    {
      "cell_type": "code",
      "execution_count": null,
      "metadata": {
        "id": "_Dx9tD3bzfGx"
      },
      "outputs": [],
      "source": [
        "# Evaluate YOLO Model on Unseen Test data for mAP metric"
      ]
    },
    {
      "cell_type": "code",
      "execution_count": null,
      "metadata": {
        "id": "2gff-grBzfGx"
      },
      "outputs": [],
      "source": [
        "test.run(data=data_path, weights=tuned_weights, conf_thres=conf_thres.value, imgsz=640)"
      ]
    },
    {
      "cell_type": "markdown",
      "metadata": {
        "id": "htYQgoR_zfGx"
      },
      "source": [
        "### Transfer model to web app server (for API use)"
      ]
    },
    {
      "cell_type": "code",
      "execution_count": null,
      "metadata": {
        "id": "4qBlmqc8zfGx"
      },
      "outputs": [],
      "source": [
        "import getpass"
      ]
    },
    {
      "cell_type": "code",
      "execution_count": null,
      "metadata": {
        "id": "JHOU1KlczfGx"
      },
      "outputs": [],
      "source": [
        "server_user = getpass.getpass('Enter your server user')\n",
        "server_pass = getpass.getpass('Enter your server password')"
      ]
    },
    {
      "cell_type": "code",
      "execution_count": null,
      "metadata": {
        "id": "I1GXAH2EzfGx"
      },
      "outputs": [],
      "source": [
        "t6.transfer_model(\"bm_nmi18_enhanced\", eval_model.selected, \"koster/sgu\", server_user, server_pass)"
      ]
    },
    {
      "cell_type": "markdown",
      "metadata": {
        "id": "5VGC_NMazfGx"
      },
      "source": [
        "# (Experimental) : Enhance annotations using trained model"
      ]
    },
    {
      "cell_type": "code",
      "execution_count": null,
      "metadata": {
        "id": "M7kV7K2EzfGx"
      },
      "outputs": [],
      "source": [
        "import detect\n",
        "detect.run(weights=tuned_weights, source=output_folder+\"/images\", imgsz=640, conf_thres=0.02, save_txt=True)"
      ]
    },
    {
      "cell_type": "code",
      "execution_count": null,
      "metadata": {
        "id": "67uHzz1TzfGx"
      },
      "outputs": [],
      "source": [
        "# Choose runs\n",
        "runs = FileChooser(\".\")\n",
        "display(runs)"
      ]
    },
    {
      "cell_type": "code",
      "execution_count": null,
      "metadata": {
        "id": "h-sCJ8FZzfGx"
      },
      "outputs": [],
      "source": [
        "!mv {output_folder}\"/labels\" {output_folder}\"/labels_org\"\n",
        "!mv {runs.selected}\"/labels\" {output_folder}\"/labels\""
      ]
    },
    {
      "cell_type": "code",
      "execution_count": null,
      "metadata": {
        "id": "8umCRoDozfGx"
      },
      "outputs": [],
      "source": [
        "#END"
      ]
    }
  ],
  "metadata": {
    "colab": {
      "collapsed_sections": [
        "Y6ozqGm3zfGq",
        "ZZWAWkVZzfGr",
        "fy3m9cOdzfGt",
        "8b4CEVkXzfGu",
        "m7EK4BXjzfGu",
        "luC2SPQHzfGv",
        "Q4XNdjhhzfGw",
        "mcFpT7njzfGw",
        "rTb9DFFWzfGw",
        "PRXru5arzfGw",
        "htYQgoR_zfGx",
        "5VGC_NMazfGx"
      ],
      "name": "5_Colab_Train_Koster_ML_models.ipynb",
      "provenance": []
    },
    "kernelspec": {
      "display_name": "Python 3",
      "language": "python",
      "name": "python3"
    },
    "language_info": {
      "codemirror_mode": {
        "name": "ipython",
        "version": 3
      },
      "file_extension": ".py",
      "mimetype": "text/x-python",
      "name": "python",
      "nbconvert_exporter": "python",
      "pygments_lexer": "ipython3",
      "version": "3.8.8"
    }
  },
  "nbformat": 4,
  "nbformat_minor": 0
}
